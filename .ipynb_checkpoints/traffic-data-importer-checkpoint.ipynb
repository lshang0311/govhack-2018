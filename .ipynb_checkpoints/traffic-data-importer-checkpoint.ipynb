{
 "cells": [
  {
   "cell_type": "code",
   "execution_count": null,
   "metadata": {},
   "outputs": [],
   "source": [
    "from elasticsearch import Elasticsearch, RequestsHttpConnection, helpers\n",
    "from requests_aws4auth import AWS4Auth\n",
    "import boto3\n",
    "import csv"
   ]
  },
  {
   "cell_type": "code",
   "execution_count": null,
   "metadata": {},
   "outputs": [],
   "source": [
    "datapath = 'crash_db.csv'\n",
    "host = 'search-govhack2018-u3oyqcrcukqglza4uqijk7xl5m.ap-southeast-2.es.amazonaws.com'\n",
    "region = 'ap-southeast-2'\n",
    "service = 'es'\n",
    "access_key = ''\n",
    "secret_key = ''"
   ]
  },
  {
   "cell_type": "code",
   "execution_count": null,
   "metadata": {},
   "outputs": [],
   "source": [
    "# Example of One Entry\n",
    "# pip install elasticsearch==6.3.1\n",
    "#credentials = boto3.Session().get_credentials()\n",
    "\n",
    "awsauth = AWS4Auth(access_key, secret_key, region, service)\n",
    "\n",
    "es = Elasticsearch(\n",
    "    hosts = [{'host': host, 'port': 443}],\n",
    "    http_auth = awsauth,\n",
    "    use_ssl = True,\n",
    "    verify_certs = True,\n",
    "    connection_class = RequestsHttpConnection\n",
    ")\n"
   ]
  },
  {
   "cell_type": "code",
   "execution_count": null,
   "metadata": {},
   "outputs": [],
   "source": [
    "es.indices.delete(index = 'crashes')"
   ]
  },
  {
   "cell_type": "code",
   "execution_count": null,
   "metadata": {},
   "outputs": [],
   "source": [
    "mapping = '''\n",
    "{\n",
    "\"mappings\": {\n",
    "  \"crash\": {\n",
    "    \"properties\": {\n",
    "      \"Long\": {\n",
    "        \"type\": \"text\"\n",
    "      },\n",
    "      \"Lat\": {\n",
    "        \"type\": \"text\"\n",
    "      },\n",
    "      \"Geo\": {\n",
    "        \"type\": \"geo_point\"\n",
    "      }\n",
    "    }\n",
    "  }\n",
    "}\n",
    "}\n",
    "'''\n",
    "\n",
    "es.indices.create(index=\"crashes\", ignore=400, body=mapping)\n",
    "\n"
   ]
  },
  {
   "cell_type": "code",
   "execution_count": null,
   "metadata": {},
   "outputs": [],
   "source": [
    "crashes = []\n",
    "i = 0\n",
    "with open(datapath, newline='') as csvfile:\n",
    "    reader = csv.reader(csvfile, delimiter=',')\n",
    "    next(reader, None)  # skip the headers\n",
    "    for row in reader:\n",
    "        i += 1\n",
    "        \n",
    "        crash = {\n",
    "            \"id\": row[0],\n",
    "            \"Geo\": row[28]+\",\"+row[29]\n",
    "        }\n",
    "        \n",
    "        crashes.append(crash)\n",
    "#         if i == 10:\n",
    "#             break\n",
    "\n",
    "# print(crashes)\n",
    "helpers.bulk(es, crashes, index='crashes', doc_type='crash', refresh = True)\n"
   ]
  },
  {
   "cell_type": "code",
   "execution_count": null,
   "metadata": {},
   "outputs": [],
   "source": [
    "# Bulk Upload Traffic Data\n",
    "\n",
    "with open(datapath) as f:\n",
    "    reader = csv.DictReader(f)\n",
    "    helpers.bulk(es, reader, index='crashes', doc_type='crash', refresh = True)\n",
    "  "
   ]
  },
  {
   "cell_type": "code",
   "execution_count": null,
   "metadata": {},
   "outputs": [],
   "source": []
  }
 ],
 "metadata": {
  "kernelspec": {
   "display_name": "Python 3",
   "language": "python",
   "name": "python3"
  },
  "language_info": {
   "codemirror_mode": {
    "name": "ipython",
    "version": 3
   },
   "file_extension": ".py",
   "mimetype": "text/x-python",
   "name": "python",
   "nbconvert_exporter": "python",
   "pygments_lexer": "ipython3",
   "version": "3.6.4"
  }
 },
 "nbformat": 4,
 "nbformat_minor": 2
}
